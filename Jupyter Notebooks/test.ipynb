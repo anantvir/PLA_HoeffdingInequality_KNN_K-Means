{
 "cells": [
  {
   "cell_type": "code",
   "execution_count": 6,
   "metadata": {},
   "outputs": [
    {
     "name": "stdout",
     "output_type": "stream",
     "text": [
      "(34, 23, 14, 23)\n"
     ]
    }
   ],
   "source": [
    "import operator as op\n",
    "\n",
    "a = [(1,2,3,4),(2,3,4,5),(1,2,3,4)]\n",
    "t = (0,0,0,0)\n",
    "#print(op.add(a[0],a[1]))\n",
    "\n",
    "a = {(1,2,3,4):5561,(3,4,5,6):674,(34,23,14,23):77.8}\n",
    "\n",
    "print(min(a.items(),key=lambda x: x[1])[0])"
   ]
  },
  {
   "cell_type": "code",
   "execution_count": null,
   "metadata": {},
   "outputs": [],
   "source": []
  }
 ],
 "metadata": {
  "kernelspec": {
   "display_name": "Python 3",
   "language": "python",
   "name": "python3"
  },
  "language_info": {
   "codemirror_mode": {
    "name": "ipython",
    "version": 3
   },
   "file_extension": ".py",
   "mimetype": "text/x-python",
   "name": "python",
   "nbconvert_exporter": "python",
   "pygments_lexer": "ipython3",
   "version": "3.6.5"
  }
 },
 "nbformat": 4,
 "nbformat_minor": 2
}
